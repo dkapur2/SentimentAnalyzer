{
 "cells": [
  {
   "cell_type": "code",
   "execution_count": null,
   "id": "cf152c7f",
   "metadata": {},
   "outputs": [],
   "source": [
    "# Import necessary libraries\n",
    "import pandas as pd\n",
    "# Import necessary libraries\n",
    "import matplotlib.pyplot as plt\n",
    "\n",
    "# Initialize the tokenizer to convert text to sequences\n",
    "from tensorflow.keras.preprocessing.text import Tokenizer\n",
    "# Convert texts to sequences of token IDs\n",
    "from tensorflow.keras.preprocessing.sequence import pad_sequences\n",
    "# Build the neural network model\n",
    "from tensorflow.keras.models import Sequential\n",
    "from tensorflow.keras.layers import LSTM,Dense, Dropout, SpatialDropout1D\n",
    "from tensorflow.keras.layers import Embedding\n",
    "\n",
    "# Load the dataset containing airline tweets\n",
    "df = pd.read_csv(\"./Tweets.csv\")"
   ]
  },
  {
   "cell_type": "code",
   "execution_count": null,
   "id": "a6550853",
   "metadata": {},
   "outputs": [],
   "source": [
    "review_df = df[['text','airline_sentiment']]\n",
    "\n",
    "# Print the shape (rows, columns) of the dataframe\n",
    "print(review_df.shape)\n",
    "# Display the first few rows of the dataframe\n",
    "review_df.head(5)"
   ]
  },
  {
   "cell_type": "code",
   "execution_count": null,
   "id": "f2d7b9a1",
   "metadata": {},
   "outputs": [],
   "source": [
    "df.columns"
   ]
  },
  {
   "cell_type": "code",
   "execution_count": null,
   "id": "7e35fc9d",
   "metadata": {},
   "outputs": [],
   "source": [
    "review_df = review_df[review_df['airline_sentiment'] != 'neutral']\n",
    "\n",
    "# Print the shape (rows, columns) of the dataframe\n",
    "print(review_df.shape)\n",
    "# Display the first few rows of the dataframe\n",
    "review_df.head(5)"
   ]
  },
  {
   "cell_type": "code",
   "execution_count": null,
   "id": "18ad5ebd",
   "metadata": {},
   "outputs": [],
   "source": [
    "# Count the number of tweets for each sentiment label\n",
    "review_df[\"airline_sentiment\"].value_counts()"
   ]
  },
  {
   "cell_type": "code",
   "execution_count": null,
   "id": "c499eba4",
   "metadata": {},
   "outputs": [],
   "source": [
    "sentiment_label = review_df.airline_sentiment.factorize()\n",
    "sentiment_label"
   ]
  },
  {
   "cell_type": "code",
   "execution_count": null,
   "id": "50f77907",
   "metadata": {},
   "outputs": [],
   "source": [
    "tweet = review_df.text.values\n",
    "# Initialize the tokenizer to convert text to sequences\n",
    "tokenizer = Tokenizer(num_words=5000)\n",
    "# Fit the tokenizer on the tweet texts\n",
    "tokenizer.fit_on_texts(tweet)\n",
    "vocab_size = len(tokenizer.word_index) + 1\n",
    "# Convert texts to sequences of token IDs\n",
    "encoded_docs = tokenizer.texts_to_sequences(tweet)\n",
    "# Convert texts to sequences of token IDs\n",
    "padded_sequence = pad_sequences(encoded_docs, maxlen=200)"
   ]
  },
  {
   "cell_type": "code",
   "execution_count": null,
   "id": "f6eeb69f",
   "metadata": {},
   "outputs": [],
   "source": [
    "# Initialize the tokenizer to convert text to sequences\n",
    "from tensorflow.keras.preprocessing.text import Tokenizer\n",
    "\n",
    "# Initialize the tokenizer to convert text to sequences\n",
    "tokenizer = Tokenizer(num_words=5000)\n",
    "\n",
    "# Fit the tokenizer on the tweet texts\n",
    "tokenizer.fit_on_texts(tweet)"
   ]
  },
  {
   "cell_type": "code",
   "execution_count": null,
   "id": "3d8ed1f0",
   "metadata": {},
   "outputs": [],
   "source": [
    "# Convert texts to sequences of token IDs\n",
    "encoded_docs = tokenizer.texts_to_sequences(tweet)"
   ]
  },
  {
   "cell_type": "code",
   "execution_count": null,
   "id": "b18b9e82",
   "metadata": {},
   "outputs": [],
   "source": [
    "# Convert texts to sequences of token IDs\n",
    "from tensorflow.keras.preprocessing.sequence import pad_sequences\n",
    "\n",
    "# Convert texts to sequences of token IDs\n",
    "padded_sequence = pad_sequences(encoded_docs, maxlen=200)"
   ]
  },
  {
   "cell_type": "code",
   "execution_count": null,
   "id": "a003f462",
   "metadata": {},
   "outputs": [],
   "source": [
    "# Build the neural network model\n",
    "from tensorflow.keras.models import Sequential\n",
    "from tensorflow.keras.layers import LSTM,Dense, Dropout, SpatialDropout1D\n",
    "from tensorflow.keras.layers import Embedding\n",
    "\n",
    "\n",
    "embedding_vector_length = 32\n",
    "# Build the neural network model\n",
    "model = Sequential()\n",
    "# Build the neural network model\n",
    "model.add(Embedding(vocab_size, embedding_vector_length, input_length=200))\n",
    "# Build the neural network model\n",
    "model.add(SpatialDropout1D(0.25))\n",
    "# Build the neural network model\n",
    "model.add(LSTM(50, dropout=0.5, recurrent_dropout=0.5))\n",
    "# Build the neural network model\n",
    "model.add(Dropout(0.2))\n",
    "# Build the neural network model\n",
    "model.add(Dense(1, activation='sigmoid'))\n",
    "# Compile the model with optimizer, loss function, and metrics\n",
    "model.compile(loss='binary_crossentropy',optimizer='adam', metrics=['accuracy'])\n",
    " \n",
    "print(model.summary())"
   ]
  },
  {
   "cell_type": "code",
   "execution_count": null,
   "id": "0e839e67",
   "metadata": {},
   "outputs": [],
   "source": [
    "# Train the model on the training data\n",
    "history = model.fit(padded_sequence,sentiment_label[0],validation_split=0.2, epochs=5, batch_size=32)"
   ]
  },
  {
   "cell_type": "code",
   "execution_count": null,
   "id": "4ba16760",
   "metadata": {},
   "outputs": [],
   "source": [
    "# Import necessary libraries\n",
    "import matplotlib.pyplot as plt\n",
    "\n",
    "plt.plot(history.history['accuracy'], label='acc')\n",
    "plt.plot(history.history['val_accuracy'], label='val_acc')\n",
    "plt.legend()\n",
    "plt.show()\n",
    "\n",
    "plt.savefig(\"Accuracy plot.jpg\")"
   ]
  },
  {
   "cell_type": "code",
   "execution_count": null,
   "id": "87cabf1c",
   "metadata": {},
   "outputs": [],
   "source": [
    "plt.plot(history.history['loss'], label='loss')\n",
    "plt.plot(history.history['val_loss'], label='val_loss')\n",
    "\n",
    "plt.legend()\n",
    "plt.show()\n",
    "\n",
    "plt.savefig(\"Loss plt.jpg\")"
   ]
  },
  {
   "cell_type": "code",
   "execution_count": null,
   "id": "d828268a",
   "metadata": {},
   "outputs": [],
   "source": [
    "def predict_sentiment(text):\n",
    "# Convert texts to sequences of token IDs\n",
    "    tw = tokenizer.texts_to_sequences([text])\n",
    "# Convert texts to sequences of token IDs\n",
    "    tw = pad_sequences(tw,maxlen=200)\n",
    "    prediction = int(model.predict(tw).round().item())\n",
    "    print(\"Predicted label: \", sentiment_label[1][prediction])\n",
    "\n",
    "\n",
    "test_sentence1 = \"I enjoyed my journey on this flight.\"\n",
    "predict_sentiment(test_sentence1)\n",
    "\n",
    "test_sentence2 = \"This is the worst flight experience of my life!\"\n",
    "predict_sentiment(test_sentence2)"
   ]
  },
  {
   "cell_type": "code",
   "execution_count": null,
   "id": "66064c59",
   "metadata": {},
   "outputs": [],
   "source": []
  }
 ],
 "metadata": {
  "kernelspec": {
   "display_name": "Python 3 (ipykernel)",
   "language": "python",
   "name": "python3"
  },
  "language_info": {
   "codemirror_mode": {
    "name": "ipython",
    "version": 3
   },
   "file_extension": ".py",
   "mimetype": "text/x-python",
   "name": "python",
   "nbconvert_exporter": "python",
   "pygments_lexer": "ipython3",
   "version": "3.12.6"
  }
 },
 "nbformat": 4,
 "nbformat_minor": 5
}
